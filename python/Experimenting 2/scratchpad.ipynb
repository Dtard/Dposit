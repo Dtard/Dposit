{
 "cells": [
  {
   "cell_type": "code",
   "execution_count": 4,
   "metadata": {},
   "outputs": [
    {
     "name": "stdout",
     "output_type": "stream",
     "text": [
      "no slices key\n"
     ]
    }
   ],
   "source": [
    "import json\n",
    "import os\n",
    "\n",
    "file = open(r'D:\\CodeHub\\GITHUB\\Dposit\\python\\Experimenting 2\\assets\\bubble-sprite.json')\n",
    "info = json.load(file)\n",
    "try:\n",
    "    slices = (info['meta'])['slices']\n",
    "    for s in slices:\n",
    "        print(s['name'])\n",
    "        keys = (s['keys'])[0]\n",
    "        print(keys['bounds'])\n",
    "except(KeyError):\n",
    "    print('no {} key'.format('slices'))\n",
    "\n",
    "# Pull frame data\n"
   ]
  },
  {
   "cell_type": "code",
   "execution_count": 12,
   "metadata": {},
   "outputs": [
    {
     "name": "stdout",
     "output_type": "stream",
     "text": [
      "Bubble 0\n",
      "[0, 0, 32, 32]\n",
      "Bubble 1\n",
      "[32, 0, 32, 32]\n",
      "Bubble 2\n",
      "[64, 0, 32, 32]\n"
     ]
    }
   ],
   "source": [
    "# Frame Mode\n",
    "frames = info['frames']\n",
    "spritedat = {}\n",
    "for f in frames:\n",
    "    print(f)\n",
    "    coordinates = (frames[f])['frame']\n",
    "    #print(frames[f])\n",
    "    vals = list(coordinates.values())\n",
    "    print(vals)"
   ]
  },
  {
   "cell_type": "code",
   "execution_count": 2,
   "metadata": {},
   "outputs": [],
   "source": [
    "# Fix JSON loading\n",
    "# SO:\n",
    "dir = 'assets'\n",
    "jfile = 'Bubble-Sprite.json'\n",
    "file = open(os.path.join(dir,jfile))\n"
   ]
  }
 ],
 "metadata": {
  "interpreter": {
   "hash": "1a71390dff19eaeddf228a523485b1ab1e3abc027056b1a82ec013be91ae215b"
  },
  "kernelspec": {
   "display_name": "Python 3.9.7 64-bit ('kitchensink': conda)",
   "language": "python",
   "name": "python3"
  },
  "language_info": {
   "codemirror_mode": {
    "name": "ipython",
    "version": 3
   },
   "file_extension": ".py",
   "mimetype": "text/x-python",
   "name": "python",
   "nbconvert_exporter": "python",
   "pygments_lexer": "ipython3",
   "version": "3.9.7"
  },
  "orig_nbformat": 4
 },
 "nbformat": 4,
 "nbformat_minor": 2
}
