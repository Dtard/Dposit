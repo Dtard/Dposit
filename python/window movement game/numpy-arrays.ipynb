{
 "cells": [
  {
   "cell_type": "code",
   "execution_count": 1,
   "metadata": {},
   "outputs": [
    {
     "name": "stdout",
     "output_type": "stream",
     "text": [
      "[['B' 'B' 'B' 'B' 'B' 'B' 'B' 'B' 'B' 'B']\n",
      " ['B' 'B' 'B' 'B' 'B' 'B' 'B' 'B' 'B' 'B']]\n",
      "[['1' '2']\n",
      " ['3' '4']]\n"
     ]
    }
   ],
   "source": [
    "# setup arrays\n",
    "import numpy as np\n",
    "\n",
    "grid = np.full((10,10),\"B\")\n",
    "square = np.array((['1','2'],['3','4']))\n",
    "print(grid[:2])\n",
    "print(square)\n",
    "\n"
   ]
  },
  {
   "cell_type": "code",
   "execution_count": 22,
   "metadata": {},
   "outputs": [
    {
     "name": "stdout",
     "output_type": "stream",
     "text": [
      "[['B' 'B' 'B' 'B' 'B' '1' '2' 'B' 'B' 'B']\n",
      " ['B' 'B' 'B' 'B' 'B' '3' '4' 'B' 'B' 'B']]\n"
     ]
    }
   ],
   "source": [
    "#  write smaller to specific location in larger:\n",
    "x = 5 # Start write location\n",
    "endx, endy = len(square)+x,len(square[0])+x\n",
    "grid[x:endx,x:endy] = square\n",
    "print(grid[x:endx])"
   ]
  },
  {
   "cell_type": "code",
   "execution_count": 7,
   "metadata": {},
   "outputs": [
    {
     "name": "stdout",
     "output_type": "stream",
     "text": [
      "[['1' '2']\n",
      " ['3' '4']]\n",
      "[['4' '1']\n",
      " ['2' '3']]\n",
      "[['2' '1']\n",
      " ['4' '3']]\n",
      "[['3' '4']\n",
      " ['1' '2']]\n"
     ]
    }
   ],
   "source": [
    "# rotate array:\n",
    "print(square)\n",
    "\n",
    "rot = np.roll(square,1) # pushes numbers AS FLAT ARRAY. ie: (1,2,3,4) > (4,1,2,3)\n",
    "print(rot)\n",
    "\n",
    "rot = np.roll(square,(1,0),(1,1)) # rolls each individual inner array\n",
    "print(rot)\n",
    "\n",
    "rot = np.roll(square,(0,1),(1,0)) # rolls outer arrays\n",
    "print(rot)"
   ]
  },
  {
   "cell_type": "code",
   "execution_count": 12,
   "metadata": {},
   "outputs": [
    {
     "name": "stdout",
     "output_type": "stream",
     "text": [
      "[         0          0          0          0 4284102493          0\n",
      "          0          0]\n"
     ]
    }
   ],
   "source": [
    "# YO LET'S PUT AN IMAGE IN A NUMPY ARRAY\n",
    "import numpy as np\n",
    "import pygame as pg\n",
    "import os\n",
    "\n",
    "ball = pg.image.load(os.path.join('assets', 'shittyball.png'))\n",
    "ball = pg.transform.scale(ball,[8,8])\n",
    "ball_np = np.array(pg.PixelArray(ball))\n",
    "print(ball_np[0])\n",
    "\n",
    "# OK WE DID IT"
   ]
  },
  {
   "cell_type": "code",
   "execution_count": 18,
   "metadata": {},
   "outputs": [
    {
     "name": "stdout",
     "output_type": "stream",
     "text": [
      "[      0 1118481 2236962 3355443 4473924 5592405 6710886 7829367]\n",
      "[16777215 15658734 14540253 13421772 12303291 11184810 10066329  8947848]\n",
      "0x7fffff\n",
      "0x7fffff\n",
      "0x7fffff\n",
      "0x7fffff\n",
      "0x7fffff\n",
      "0x7fffff\n",
      "0x7fffff\n",
      "0x7fffff\n"
     ]
    }
   ],
   "source": [
    "# Average two color arrays\n",
    "\n",
    "arr1 = np.array([0x000000,0x111111,0x222222,0x333333,0x444444,0x555555,0x666666,0x777777])\n",
    "arr2 = np.array([0xFFFFFF,0xEEEEEE,0xDDDDDD,0xCCCCCC,0xBBBBBB,0xAAAAAA,0x999999,0x888888])\n",
    "arr_avg = (arr1+arr2)/2\n",
    "print(arr1)\n",
    "print(arr2)\n",
    "for i in arr_avg:\n",
    "    print(hex(int(i)))"
   ]
  }
 ],
 "metadata": {
  "interpreter": {
   "hash": "1a71390dff19eaeddf228a523485b1ab1e3abc027056b1a82ec013be91ae215b"
  },
  "kernelspec": {
   "display_name": "Python 3.9.7 64-bit ('kitchensink': conda)",
   "language": "python",
   "name": "python3"
  },
  "language_info": {
   "codemirror_mode": {
    "name": "ipython",
    "version": 3
   },
   "file_extension": ".py",
   "mimetype": "text/x-python",
   "name": "python",
   "nbconvert_exporter": "python",
   "pygments_lexer": "ipython3",
   "version": "3.9.7"
  },
  "orig_nbformat": 4
 },
 "nbformat": 4,
 "nbformat_minor": 2
}
