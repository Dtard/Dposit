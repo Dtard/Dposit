{
 "cells": [
  {
   "cell_type": "code",
   "execution_count": 20,
   "metadata": {},
   "outputs": [
    {
     "name": "stdout",
     "output_type": "stream",
     "text": [
      "[['B' 'B' 'B' 'B' 'B' 'B' 'B' 'B' 'B' 'B']\n",
      " ['B' 'B' 'B' 'B' 'B' 'B' 'B' 'B' 'B' 'B']]\n",
      "[['1' '2']\n",
      " ['3' '4']]\n"
     ]
    }
   ],
   "source": [
    "# setup arrays\n",
    "import numpy as np\n",
    "\n",
    "grid = np.full((10,10),\"B\")\n",
    "square = np.array((['1','2'],['3','4']))\n",
    "print(grid[:2])\n",
    "print(square)\n",
    "\n"
   ]
  },
  {
   "cell_type": "code",
   "execution_count": 22,
   "metadata": {},
   "outputs": [
    {
     "name": "stdout",
     "output_type": "stream",
     "text": [
      "[['B' 'B' 'B' 'B' 'B' '1' '2' 'B' 'B' 'B']\n",
      " ['B' 'B' 'B' 'B' 'B' '3' '4' 'B' 'B' 'B']]\n"
     ]
    }
   ],
   "source": [
    "#  write smaller to specific location in larger:\n",
    "x = 5 # Start write location\n",
    "endx, endy = len(square)+x,len(square[0])+x\n",
    "grid[x:endx,x:endy] = square\n",
    "print(grid[x:endx])"
   ]
  },
  {
   "cell_type": "code",
   "execution_count": 49,
   "metadata": {},
   "outputs": [
    {
     "name": "stdout",
     "output_type": "stream",
     "text": [
      "[['1' '2']\n",
      " ['3' '4']]\n",
      "[['4' '1']\n",
      " ['2' '3']]\n",
      "[['2' '1']\n",
      " ['4' '3']]\n",
      "[['3' '4']\n",
      " ['1' '2']]\n"
     ]
    }
   ],
   "source": [
    "# rotate array:\n",
    "print(square)\n",
    "\n",
    "rot = np.roll(square,1) # pushes numbers AS FLAT ARRAY. ie: (1,2,3,4) > (4,1,2,3)\n",
    "print(rot)\n",
    "\n",
    "rot = np.roll(square,(1,0),(1,0)) # rolls each individual inner array\n",
    "print(rot)\n",
    "\n",
    "rot = np.roll(square,(0,1),(1,0)) # rolls outer arrays\n",
    "print(rot)"
   ]
  }
 ],
 "metadata": {
  "interpreter": {
   "hash": "1a71390dff19eaeddf228a523485b1ab1e3abc027056b1a82ec013be91ae215b"
  },
  "kernelspec": {
   "display_name": "Python 3.9.7 64-bit ('kitchensink': conda)",
   "language": "python",
   "name": "python3"
  },
  "language_info": {
   "codemirror_mode": {
    "name": "ipython",
    "version": 3
   },
   "file_extension": ".py",
   "mimetype": "text/x-python",
   "name": "python",
   "nbconvert_exporter": "python",
   "pygments_lexer": "ipython3",
   "version": "3.9.7"
  },
  "orig_nbformat": 4
 },
 "nbformat": 4,
 "nbformat_minor": 2
}
