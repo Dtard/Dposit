{
 "cells": [
  {
   "cell_type": "code",
   "execution_count": 1,
   "metadata": {},
   "outputs": [
    {
     "name": "stdout",
     "output_type": "stream",
     "text": [
      "2\n"
     ]
    }
   ],
   "source": [
    "x = 20\n",
    "\n",
    "print(20 // 7) # Floor division - returns highest integer that can fit (ie roudns down)"
   ]
  },
  {
   "cell_type": "code",
   "execution_count": 14,
   "metadata": {},
   "outputs": [
    {
     "name": "stdout",
     "output_type": "stream",
     "text": [
      "[[1 2 3]\n",
      " [4 5 6]\n",
      " [7 8 9]]\n",
      "[[4 3 5]\n",
      " [1 4 3]\n",
      " [1 0 1]]\n",
      "[[0 0 0]\n",
      " [0 5 0]\n",
      " [0 0 0]]\n"
     ]
    }
   ],
   "source": [
    "# Using Slicing (ie [:] for numpy arrays)\n",
    "import numpy as np\n",
    "import copy\n",
    "list1 = np.array([[1,2,3],[4,5,6],[7,8,9]])\n",
    "print(list1)\n",
    "# overwrite all values with 0 (only works with numpy array, not lists)\n",
    "copy1 = copy.copy(list1)\n",
    "copy1[:] = 0\n",
    "# copy specific values of one array to another\n",
    "val = 5\n",
    "copy1[np.where(list1 == val)] = val\n",
    "list1 = np.random.randint(9,size=(3,3))\n",
    "print(list1)\n",
    "print(copy1)"
   ]
  },
  {
   "cell_type": "code",
   "execution_count": null,
   "metadata": {},
   "outputs": [],
   "source": [
    "# Make mask\n",
    "import os\n",
    "list1 = np.where()\n",
    "\n"
   ]
  }
 ],
 "metadata": {
  "interpreter": {
   "hash": "1a71390dff19eaeddf228a523485b1ab1e3abc027056b1a82ec013be91ae215b"
  },
  "kernelspec": {
   "display_name": "Python 3.9.7 64-bit ('kitchensink': conda)",
   "name": "python3"
  },
  "language_info": {
   "codemirror_mode": {
    "name": "ipython",
    "version": 3
   },
   "file_extension": ".py",
   "mimetype": "text/x-python",
   "name": "python",
   "nbconvert_exporter": "python",
   "pygments_lexer": "ipython3",
   "version": "3.9.7"
  },
  "orig_nbformat": 4
 },
 "nbformat": 4,
 "nbformat_minor": 2
}
