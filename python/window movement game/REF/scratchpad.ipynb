{
 "cells": [
  {
   "cell_type": "code",
   "execution_count": 3,
   "metadata": {},
   "outputs": [
    {
     "name": "stdout",
     "output_type": "stream",
     "text": [
      "d:\\CodeHub\\GITHUB\\Dposit\\python\\window movement game\\REF\\Project Files\n"
     ]
    }
   ],
   "source": [
    "# How do I make path out of dumb dirs\n",
    "import os\n",
    "\n",
    "p = os.path.join(os.getcwd(), 'Project Files')\n",
    "print(p)"
   ]
  },
  {
   "cell_type": "code",
   "execution_count": 4,
   "metadata": {},
   "outputs": [
    {
     "ename": "SyntaxError",
     "evalue": "invalid syntax (Temp/ipykernel_7104/2311858146.py, line 3)",
     "output_type": "error",
     "traceback": [
      "\u001b[1;36m  File \u001b[1;32m\"C:\\Users\\derek\\AppData\\Local\\Temp/ipykernel_7104/2311858146.py\"\u001b[1;36m, line \u001b[1;32m3\u001b[0m\n\u001b[1;33m    palette.update(\"X\":5)\u001b[0m\n\u001b[1;37m                      ^\u001b[0m\n\u001b[1;31mSyntaxError\u001b[0m\u001b[1;31m:\u001b[0m invalid syntax\n"
     ]
    }
   ],
   "source": [
    "# Dict Learning:\n",
    "palette = {}\n",
    "palette.update({\"X\":5})\n",
    "print(palette)\n"
   ]
  },
  {
   "cell_type": "code",
   "execution_count": 64,
   "metadata": {},
   "outputs": [
    {
     "name": "stdout",
     "output_type": "stream",
     "text": [
      "1234567\n"
     ]
    },
    {
     "ename": "TypeError",
     "evalue": "unsupported operand type(s) for &: 'str' and 'int'",
     "output_type": "error",
     "traceback": [
      "\u001b[1;31m---------------------------------------------------------------------------\u001b[0m",
      "\u001b[1;31mTypeError\u001b[0m                                 Traceback (most recent call last)",
      "\u001b[1;32m~\\AppData\\Local\\Temp/ipykernel_9084/396497057.py\u001b[0m in \u001b[0;36m<module>\u001b[1;34m\u001b[0m\n\u001b[0;32m      6\u001b[0m \u001b[0mprint\u001b[0m\u001b[1;33m(\u001b[0m\u001b[0mbigint\u001b[0m\u001b[1;33m)\u001b[0m\u001b[1;33m\u001b[0m\u001b[1;33m\u001b[0m\u001b[0m\n\u001b[0;32m      7\u001b[0m \u001b[1;31m# seriously just trying random shit\u001b[0m\u001b[1;33m\u001b[0m\u001b[1;33m\u001b[0m\u001b[0m\n\u001b[1;32m----> 8\u001b[1;33m \u001b[0mbighex\u001b[0m \u001b[1;33m=\u001b[0m \u001b[0mbighex\u001b[0m \u001b[1;33m&\u001b[0m \u001b[1;36m0xff\u001b[0m\u001b[1;33m\u001b[0m\u001b[1;33m\u001b[0m\u001b[0m\n\u001b[0m\u001b[0;32m      9\u001b[0m \u001b[0mprint\u001b[0m\u001b[1;33m(\u001b[0m\u001b[0mbighex\u001b[0m\u001b[1;33m)\u001b[0m\u001b[1;33m\u001b[0m\u001b[1;33m\u001b[0m\u001b[0m\n",
      "\u001b[1;31mTypeError\u001b[0m: unsupported operand type(s) for &: 'str' and 'int'"
     ]
    }
   ],
   "source": [
    "# HOW THE FUCK DO HEX VALS AND ALL THAT WONKO SHIT WORK\n",
    "import copy as cp\n",
    "\n",
    "bigint = 1234567\n",
    "bighex = hex(cp.copy(bigint))\n",
    "print(bigint)\n",
    "# seriously just trying random shit\n",
    "bighex = bighex & 0xff\n",
    "print(bighex)\n",
    "ass = hex"
   ]
  },
  {
   "cell_type": "code",
   "execution_count": 65,
   "metadata": {},
   "outputs": [
    {
     "name": "stdout",
     "output_type": "stream",
     "text": [
      "['0xc9cca1ff', '0xcaa05aff', '0xae6a47ff', '0x8b4049ff', '0x543344ff', '0x515262ff', '0x63787dff', '0x8ea091ff']\n",
      "['0xff', '0xff', '0xff', '0xff', '0xff', '0xff', '0xff', '0xff']\n"
     ]
    }
   ],
   "source": [
    "# Load Image?\n",
    "from pygame import image\n",
    "IMGPATH = 'D:\\\\Pictures\\\\Palettes\\\\dreamscape8-8x.png'\n",
    "pic = image.load(IMGPATH)\n",
    "pal = pic.get_palette()\n",
    "# IF OK WITH ALPHA:\n",
    "directhex = [hex(x) for x in pal]\n",
    "print(directhex)\n",
    "hexpalette = [hex(int(x) & 0xFF) for x in pal]\n",
    "print(hexpalette)\n"
   ]
  },
  {
   "cell_type": "code",
   "execution_count": 17,
   "metadata": {},
   "outputs": [
    {
     "name": "stdout",
     "output_type": "stream",
     "text": [
      "{'X': 5, True: {'b': 255, 'r': 16711680, 'g': 65280, '.': 8947848, 'W': 16777215, 'B': 0}}\n"
     ]
    }
   ],
   "source": [
    "import numpy as np\n",
    "colors = {\"b\":0x0000FF,\"r\":0xFF0000,\"g\":0x00FF00,\".\":0x888888,\"W\":0xFFFFFF,\"B\":0x000000}\n",
    "palette = {}\n",
    "palette.update({\"X\":5})\n",
    "palette.update({True:colors})\n",
    "print(palette)"
   ]
  },
  {
   "cell_type": "code",
   "execution_count": 2,
   "metadata": {},
   "outputs": [
    {
     "name": "stdout",
     "output_type": "stream",
     "text": [
      "[' ', 'beige']\n",
      "[' ', 'beige']\n",
      "['O', 'white']\n",
      "[' ', 'white']\n",
      "['.', 'green']\n",
      "[' ', 'green']\n",
      "['p', 'blue']\n",
      "[' ', 'blue']\n",
      "['n', 'red']\n",
      "[' ', 'red']\n",
      "[' ', 'red']\n",
      "[' ', 'red']\n",
      "[' ', 'red']\n",
      "[' ', 'red']\n",
      "['X', 'black']\n",
      "[' ', 'black']\n"
     ]
    }
   ],
   "source": [
    "def createMaze():\n",
    "    maze = []\n",
    "    maze.append([ \" \", \" \", \"O\",\" \"])\n",
    "    maze.append([ \".\", \" \", \"p\",\" \"])\n",
    "    maze.append([ \"n\", \" \", \" \",\" \"])\n",
    "    maze.append([ \" \", \" \", \"X\",\" \"])\n",
    "\n",
    "    return maze\n",
    "\n",
    "\n",
    "def draw_map(maze): \n",
    "    color = \"beige\"\n",
    "    for i in maze:\n",
    "        for j in i: \n",
    "            if j == \"O\":\n",
    "                color = \"white\"\n",
    "            if j == \".\":\n",
    "                color = \"green\"\n",
    "            if j == \"p\":\n",
    "                color = \"blue\"\n",
    "            if j == \"n\":\n",
    "                color = \"red\"\n",
    "            if j == \"X\":\n",
    "                color = \"black\"\n",
    "            #myrect = pygame.Rect(500/20, 500/20,500/20, 500/20)\n",
    "            print([j,color])\n",
    "\n",
    "draw_map(createMaze())"
   ]
  },
  {
   "cell_type": "code",
   "execution_count": 118,
   "metadata": {},
   "outputs": [
    {
     "name": "stdout",
     "output_type": "stream",
     "text": [
      "0x499602d4\n",
      "0x499602\n",
      "0x4\n"
     ]
    }
   ],
   "source": [
    "blah = 1234567892\n",
    "print(hex(blah))\n",
    "blah2 = blah >> 8\n",
    "blah3 = blah & 0b\n",
    "print(hex(blah2))\n",
    "print(hex(blah3))"
   ]
  },
  {
   "cell_type": "code",
   "execution_count": 4,
   "metadata": {},
   "outputs": [
    {
     "ename": "SyntaxError",
     "evalue": "invalid syntax (Temp/ipykernel_10860/845174429.py, line 5)",
     "output_type": "error",
     "traceback": [
      "\u001b[1;36m  File \u001b[1;32m\"C:\\Users\\derek\\AppData\\Local\\Temp/ipykernel_10860/845174429.py\"\u001b[1;36m, line \u001b[1;32m5\u001b[0m\n\u001b[1;33m    val = dict{name}\u001b[0m\n\u001b[1;37m              ^\u001b[0m\n\u001b[1;31mSyntaxError\u001b[0m\u001b[1;31m:\u001b[0m invalid syntax\n"
     ]
    }
   ],
   "source": [
    "# Dict again\n",
    "dict = {\"game\":69420}\n",
    "name = \"game\"\n",
    "\n",
    "val = dict[name]\n",
    "print(val)"
   ]
  },
  {
   "cell_type": "code",
   "execution_count": 2,
   "metadata": {},
   "outputs": [
    {
     "ename": "KeyboardInterrupt",
     "evalue": "",
     "output_type": "error",
     "traceback": [
      "\u001b[1;31m---------------------------------------------------------------------------\u001b[0m",
      "\u001b[1;31mKeyboardInterrupt\u001b[0m                         Traceback (most recent call last)",
      "\u001b[1;32m~\\AppData\\Local\\Temp/ipykernel_14028/2842093408.py\u001b[0m in \u001b[0;36m<module>\u001b[1;34m\u001b[0m\n\u001b[0;32m      3\u001b[0m \u001b[0mpygame\u001b[0m\u001b[1;33m.\u001b[0m\u001b[0minit\u001b[0m\u001b[1;33m(\u001b[0m\u001b[1;33m)\u001b[0m\u001b[1;33m\u001b[0m\u001b[1;33m\u001b[0m\u001b[0m\n\u001b[0;32m      4\u001b[0m \u001b[1;32mwhile\u001b[0m \u001b[1;32mTrue\u001b[0m\u001b[1;33m:\u001b[0m\u001b[1;33m\u001b[0m\u001b[1;33m\u001b[0m\u001b[0m\n\u001b[1;32m----> 5\u001b[1;33m     \u001b[1;32mfor\u001b[0m \u001b[0me\u001b[0m \u001b[1;32min\u001b[0m \u001b[0mpygame\u001b[0m\u001b[1;33m.\u001b[0m\u001b[0mevent\u001b[0m\u001b[1;33m.\u001b[0m\u001b[0mget\u001b[0m\u001b[1;33m(\u001b[0m\u001b[1;33m)\u001b[0m\u001b[1;33m:\u001b[0m\u001b[1;33m\u001b[0m\u001b[1;33m\u001b[0m\u001b[0m\n\u001b[0m\u001b[0;32m      6\u001b[0m             \u001b[1;32mif\u001b[0m \u001b[0me\u001b[0m\u001b[1;33m.\u001b[0m\u001b[0mtype\u001b[0m \u001b[1;33m==\u001b[0m \u001b[0mpygame\u001b[0m\u001b[1;33m.\u001b[0m\u001b[0mQUIT\u001b[0m \u001b[1;32mor\u001b[0m \u001b[1;33m(\u001b[0m\u001b[0me\u001b[0m\u001b[1;33m.\u001b[0m\u001b[0mtype\u001b[0m \u001b[1;33m==\u001b[0m \u001b[0mpygame\u001b[0m\u001b[1;33m.\u001b[0m\u001b[0mKEYDOWN\u001b[0m \u001b[1;32mand\u001b[0m \u001b[0me\u001b[0m\u001b[1;33m.\u001b[0m\u001b[0mkey\u001b[0m \u001b[1;33m==\u001b[0m \u001b[0mpygame\u001b[0m\u001b[1;33m.\u001b[0m\u001b[0mK_ESCAPE\u001b[0m\u001b[1;33m)\u001b[0m\u001b[1;33m:\u001b[0m\u001b[1;33m\u001b[0m\u001b[1;33m\u001b[0m\u001b[0m\n\u001b[0;32m      7\u001b[0m                 \u001b[0mrunning\u001b[0m \u001b[1;33m=\u001b[0m \u001b[1;32mFalse\u001b[0m\u001b[1;33m\u001b[0m\u001b[1;33m\u001b[0m\u001b[0m\n",
      "\u001b[1;31mKeyboardInterrupt\u001b[0m: "
     ]
    }
   ],
   "source": [
    "import pygame\n",
    "\n",
    "pygame.init()\n",
    "running = True\n",
    "while running:\n",
    "    for e in pygame.event.get():\n",
    "            if e.type == pygame.QUIT or (e.type == pygame.KEYDOWN and e.key == pygame.K_ESCAPE):\n",
    "                running = False\n",
    "            elif e.type == pygame.KEYDOWN: \n",
    "                if e.key == pygame.K_r:\n",
    "                    print(\"Resetting.\")\n",
    "            elif e.type == pygame.CONTROLLER_BUTTON_DPAD_DOWN:\n",
    "                print('dpad')"
   ]
  },
  {
   "cell_type": "code",
   "execution_count": null,
   "metadata": {},
   "outputs": [],
   "source": [
    "pygame.display.set_caption(\"FPS:{:.1f}|TICK:{}|RES:{}\"\n",
    "            .format(clock.get_fps()), dt, pygame.display.get_window_size()[0]))"
   ]
  }
 ],
 "metadata": {
  "interpreter": {
   "hash": "1a71390dff19eaeddf228a523485b1ab1e3abc027056b1a82ec013be91ae215b"
  },
  "kernelspec": {
   "display_name": "Python 3.9.7 64-bit ('kitchensink': conda)",
   "language": "python",
   "name": "python3"
  },
  "language_info": {
   "codemirror_mode": {
    "name": "ipython",
    "version": 3
   },
   "file_extension": ".py",
   "mimetype": "text/x-python",
   "name": "python",
   "nbconvert_exporter": "python",
   "pygments_lexer": "ipython3",
   "version": "3.9.7"
  },
  "orig_nbformat": 4
 },
 "nbformat": 4,
 "nbformat_minor": 2
}
