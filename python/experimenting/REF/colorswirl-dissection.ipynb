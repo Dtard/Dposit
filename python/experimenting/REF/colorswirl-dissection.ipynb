{
 "cells": [
  {
   "cell_type": "code",
   "execution_count": 2,
   "metadata": {},
   "outputs": [
    {
     "name": "stdout",
     "output_type": "stream",
     "text": [
      "[[ 5718225 12779660  8121428]\n",
      " [10767767 16034103  3198058]\n",
      " [ 5866457   365918  1548918]]\n",
      "[[0 0 0]\n",
      " [0 0 0]\n",
      " [0 0 0]]\n",
      "<class 'numpy.ndarray'>\n"
     ]
    }
   ],
   "source": [
    "# Dissection pt1: how the fuck do arrays work?\n",
    "import numpy\n",
    "\n",
    "# getting random num gen:\n",
    "grid = numpy.random.randint(0, 0xFFFFFF + 1, (3, 3), numpy.int32)\n",
    "\n",
    "print(grid)\n",
    "# okay so this just transforms every individual number in the array into 0\n",
    "grid[:] = 0\n",
    "print(grid)\n",
    "print(type(grid))"
   ]
  },
  {
   "cell_type": "code",
   "execution_count": 27,
   "metadata": {},
   "outputs": [
    {
     "name": "stdout",
     "output_type": "stream",
     "text": [
      "[[1 69 1]\n",
      " [1 1 69]]\n"
     ]
    },
    {
     "name": "stderr",
     "output_type": "stream",
     "text": [
      "C:\\Users\\derek\\AppData\\Local\\Temp/ipykernel_7428/1774006166.py:3: VisibleDeprecationWarning: Creating an ndarray from ragged nested sequences (which is a list-or-tuple of lists-or-tuples-or ndarrays with different lengths or shapes) is deprecated. If you meant to do this, you must specify 'dtype=object' when creating the ndarray.\n",
      "  yes = numpy.array(whatever)\n"
     ]
    }
   ],
   "source": [
    "\n",
    "whatever = [[69,1,1],[1,69,1],[1,1,69]]\n",
    "# regrid = numpy.ndarray(shape=(3,3),whatever)\n",
    "yes = numpy.array(whatever)\n",
    "print(yes[1:])\n"
   ]
  },
  {
   "cell_type": "code",
   "execution_count": 2,
   "metadata": {},
   "outputs": [
    {
     "name": "stdout",
     "output_type": "stream",
     "text": [
      "[[ 53 883 192 742]\n",
      " [837 698 922 801]\n",
      " [730 630  91 898]\n",
      " [271 781 469 519]]\n",
      "[[69 -1 -1 -1]\n",
      " [-1 69 -1 -1]\n",
      " [-1 -1 69 -1]\n",
      " [-1 -1 -1 69]]\n",
      "[[ True False False False]\n",
      " [False  True False False]\n",
      " [False False  True False]\n",
      " [False False False  True]]\n",
      "[[ 69 883 192 742]\n",
      " [837  69 922 801]\n",
      " [730 630  69 898]\n",
      " [271 781 469  69]]\n"
     ]
    }
   ],
   "source": [
    "# MASKING WITH NUMPY\n",
    "import numpy\n",
    "# standard python list if I need to compare\n",
    "list1 = [[1,2,3],[4,5,6],[7,8,9]]\n",
    "\n",
    "arr1 = numpy.random.randint(1,1000,(4,4))\n",
    "# Makes 4x4 array w/rand ints:\n",
    "print(arr1)\n",
    "# Creates an array with same format as given array\n",
    "arr2 = -(numpy.ones_like(arr1))\n",
    "# Range 4 goes to 3\n",
    "for i in range(0,4):\n",
    "    arr2[i][i] = 69\n",
    "\n",
    "# USING A MASK TO OVERWRITE ONE ARRAY WITH SELECTED PORTION OF ANOTHER\n",
    "# Easy boolean if equals\n",
    "mask = (arr2 != -1)\n",
    "print(arr2)\n",
    "print(mask)\n",
    "newarr = numpy.copy(arr1)\n",
    "newarr[mask] = arr2[mask]\n",
    "print(newarr)"
   ]
  },
  {
   "cell_type": "code",
   "execution_count": 71,
   "metadata": {},
   "outputs": [
    {
     "name": "stdout",
     "output_type": "stream",
     "text": [
      "[[1 1 2 2 3 3]\n",
      " [1 1 2 2 3 3]\n",
      " [4 4 5 5 6 6]\n",
      " [4 4 5 5 6 6]\n",
      " [7 7 8 8 9 9]\n",
      " [7 7 8 8 9 9]]\n"
     ]
    }
   ],
   "source": [
    "# How do I fucking blow this shit up\n",
    "\n",
    "list1 = [[1,2,3],[4,5,6],[7,8,9]]\n",
    "grid = numpy.array(list1)\n",
    "dupe = (numpy.repeat(numpy.repeat(grid,2,axis=1),2,axis=0))\n",
    "print(dupe)"
   ]
  },
  {
   "cell_type": "code",
   "execution_count": 63,
   "metadata": {},
   "outputs": [
    {
     "name": "stdout",
     "output_type": "stream",
     "text": [
      "[[1 2 3]\n",
      " [4 5 6]\n",
      " [7 8 9]]\n",
      "[[5 6 4]\n",
      " [8 9 7]\n",
      " [2 3 1]]\n",
      "[[6 4 5]\n",
      " [9 7 8]\n",
      " [3 1 2]]\n",
      "[[8 9 7]\n",
      " [2 3 1]\n",
      " [5 6 4]]\n",
      "[[9 7 8]\n",
      " [3 1 2]\n",
      " [6 4 5]]\n"
     ]
    }
   ],
   "source": [
    "# what is this step doing???\n",
    "# Base random color array gen for each pixel\n",
    "# grid = numpy.random.randint(0, 10, (3,3))\n",
    "\n",
    "# Just look at it with set one so can see actual behavior\n",
    "list1 = [[1,2,3],[4,5,6],[7,8,9]]\n",
    "grid = numpy.array(list1)\n",
    "# Part 1 of quad-directional shifting:\n",
    "shifted = []\n",
    "# WHEN dx = dy, there is a DIAGONAL shift happening.\n",
    "for dx in [-1, 1]:\n",
    "    for dy in [-1, 1]:\n",
    "        if (dx, dy) != (0, 0):\n",
    "            shifted.append(numpy.roll(grid, (dx, dy), (0, 1)))\n",
    "# Order of shifted: [-1,-1],[-1,0],[-1,1],[0,-1],etc\n",
    "print(grid)\n",
    "for x in shifted:\n",
    "    print(x)"
   ]
  },
  {
   "cell_type": "markdown",
   "metadata": {},
   "source": [
    "## ____Base Code:____\n",
    "the general outline of how this works:\n",
    "1. class created gives random number 2d array for every pixel\n",
    "2. step does something (???)\n",
    "3. "
   ]
  },
  {
   "cell_type": "code",
   "execution_count": 5,
   "metadata": {},
   "outputs": [],
   "source": [
    "# COLORSWIRL PART 1: IMPORTS-GLOBALS AND CLASS\n",
    "import pygame\n",
    "import numpy\n",
    "\n",
    "W, H = 3, 3\n",
    "FPS = 1\n",
    "\n",
    "FLAGS = 0 #  | pygame.SCALED\n",
    "\n",
    "class State:\n",
    "    def __init__(self):\n",
    "        # Create 2d NP array, and fill with random numbers between 0 and hex max for colors\n",
    "        # these are the pixel's colors\n",
    "        self.grid = numpy.random.randint(0, 0xFFFFFF + 1, (W, H), numpy.int32)\n",
    "\n",
    "    def step(self):\n",
    "        shifted = []\n",
    "        for dx in [-1, 0, 1]:\n",
    "            for dy in [-1, 0, 1]:\n",
    "                if (dx, dy) != (0, 0): \n",
    "                    # For each of direction ((-1,1)x*(-1,1)y), appends the entire random grid, shifted in that direction.\n",
    "                    shifted.append(numpy.roll(self.grid, (dx, dy), (0, 1)))\n",
    "        \n",
    "        # For each pixel pick a random number, corresponding to each rolled array in shifted[]\n",
    "        rand_vals = numpy.random.randint(0, len(shifted), (W, H), numpy.int16)\n",
    "\n",
    "        masks = []\n",
    "        for i in range(len(shifted)):\n",
    "            masks.append(1 * (rand_vals == i))\n",
    "        self.masks = masks\n",
    "        self.grid[:] = 0\n",
    "        for i in range(len(shifted)):\n",
    "            self.grid += masks[i] * shifted[i]\n",
    "\n",
    "    def draw(self, screen):\n",
    "        pygame.surfarray.blit_array(screen, self.grid)"
   ]
  },
  {
   "cell_type": "code",
   "execution_count": 6,
   "metadata": {},
   "outputs": [
    {
     "name": "stdout",
     "output_type": "stream",
     "text": [
      "[array([[0, 1, 0],\n",
      "       [1, 0, 0],\n",
      "       [0, 0, 0]]), array([[0, 0, 1],\n",
      "       [0, 0, 0],\n",
      "       [0, 0, 0]]), array([[0, 0, 0],\n",
      "       [0, 0, 0],\n",
      "       [0, 0, 1]]), array([[0, 0, 0],\n",
      "       [0, 0, 0],\n",
      "       [0, 1, 0]]), array([[0, 0, 0],\n",
      "       [0, 1, 0],\n",
      "       [0, 0, 0]]), array([[1, 0, 0],\n",
      "       [0, 0, 1],\n",
      "       [0, 0, 0]]), array([[0, 0, 0],\n",
      "       [0, 0, 0],\n",
      "       [0, 0, 0]]), array([[0, 0, 0],\n",
      "       [0, 0, 0],\n",
      "       [1, 0, 0]])]\n"
     ]
    }
   ],
   "source": [
    "test = State()\n",
    "test.step()\n",
    "print(test.masks)"
   ]
  },
  {
   "cell_type": "code",
   "execution_count": null,
   "metadata": {},
   "outputs": [],
   "source": [
    "# COLORSWIRL PART 2: MAIN\n",
    "\n",
    "if __name__ == \"__main__\":\n",
    "    pygame.init()\n",
    "    screen = pygame.display.set_mode((W, H), flags=FLAGS)\n",
    "    state = State()\n",
    "    clock = pygame.time.Clock()\n",
    "\n",
    "    running = True\n",
    "    last_update_time = pygame.time.get_ticks()\n",
    "\n",
    "    while running:\n",
    "        current_time = pygame.time.get_ticks()\n",
    "        dt = (current_time - last_update_time) / 1000\n",
    "        for e in pygame.event.get():\n",
    "            if e.type == pygame.QUIT or (e.type == pygame.KEYDOWN and e.key == pygame.K_ESCAPE):\n",
    "                running = False\n",
    "            elif e.type == pygame.KEYDOWN:\n",
    "                if e.key == pygame.K_r:\n",
    "                    print(\"Resetting.\")\n",
    "                    state = State()\n",
    "                elif e.key == pygame.K_RIGHT:\n",
    "                    FPS += 10\n",
    "                    print(\"Increased target FPS to: {}\".format(FPS))\n",
    "                elif e.key == pygame.K_LEFT:\n",
    "                    FPS = max(10, FPS - 10)\n",
    "                    print(\"Decreased target FPS to: {}\".format(FPS))\n",
    "        state.step()\n",
    "        state.draw(screen)\n",
    "\n",
    "        pygame.display.flip()\n",
    "\n",
    "        if current_time // 1000 > last_update_time // 1000:\n",
    "            pygame.display.set_caption(\"Color Swirl (FPS={:.1f}, TARGET_FPS={}, SIZE={})\".format(clock.get_fps(), FPS, (W, H)))\n",
    "\n",
    "        last_update_time = current_time\n",
    "        clock.tick(FPS)\n"
   ]
  },
  {
   "cell_type": "code",
   "execution_count": 22,
   "metadata": {},
   "outputs": [
    {
     "name": "stdout",
     "output_type": "stream",
     "text": [
      "[[1 2 3]\n",
      " [4 5 6]\n",
      " [7 8 9]]\n",
      "[[7 8 9]\n",
      " [1 2 3]\n",
      " [4 5 6]]\n",
      "[[9 1 2]\n",
      " [3 4 5]\n",
      " [6 7 8]]\n",
      "[[3 1 2]\n",
      " [6 4 5]\n",
      " [9 7 8]]\n",
      "[[7 8 9]\n",
      " [1 2 3]\n",
      " [4 5 6]]\n"
     ]
    }
   ],
   "source": [
    "# How does Numpy.Roll work?\n",
    "# shifted.append(numpy.roll(self.grid, (dx, dy), (0, 1)))\n",
    "import numpy as np\n",
    "\n",
    "a = np.array([[1,2,3],[4,5,6],[7,8,9]])\n",
    "print(a)\n",
    "print(np.roll(a,(1,0),(0,0)))\n",
    "print(np.roll(a,(0,1)))\n",
    "print(np.roll(a,(0,1),(0,1)))\n",
    "print(np.roll(a,(1,0),(0,1)))"
   ]
  }
 ],
 "metadata": {
  "interpreter": {
   "hash": "1a71390dff19eaeddf228a523485b1ab1e3abc027056b1a82ec013be91ae215b"
  },
  "kernelspec": {
   "display_name": "Python 3.9.7 64-bit ('kitchensink': conda)",
   "name": "python3"
  },
  "language_info": {
   "codemirror_mode": {
    "name": "ipython",
    "version": 3
   },
   "file_extension": ".py",
   "mimetype": "text/x-python",
   "name": "python",
   "nbconvert_exporter": "python",
   "pygments_lexer": "ipython3",
   "version": "3.9.7"
  },
  "orig_nbformat": 4
 },
 "nbformat": 4,
 "nbformat_minor": 2
}
