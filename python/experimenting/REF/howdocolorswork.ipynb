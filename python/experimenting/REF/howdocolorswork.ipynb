{
 "cells": [
  {
   "cell_type": "code",
   "execution_count": 19,
   "metadata": {},
   "outputs": [
    {
     "name": "stdout",
     "output_type": "stream",
     "text": [
      "Hex Colors:\n",
      "Black(0x000000) = 0\n",
      "White(0xFFFFFF) = 16777215\n",
      "Red(0xFF0000) = 16711680\n",
      "Green(0x00FF00) = 65280\n",
      "Blue(0x0000FF) = 255\n",
      "Colors between 0 and Pure Green:\n",
      "--------------------------------\n"
     ]
    }
   ],
   "source": [
    "# Try color logic to find how it reads hex colors\n",
    "import numpy as np\n",
    "\n",
    "print('Hex Colors:')\n",
    "print('Black(0x000000) = ' + str(0x000000))\n",
    "print('White(0xFFFFFF) = ' + str(0xFFFFFF))\n",
    "print('Red(0xFF0000) = ' + str(0xFF0000))\n",
    "print('Green(0x00FF00) = ' + str(0x00FF00))\n",
    "print('Blue(0x0000FF) = ' + str(0x0000FF))\n",
    "print('Colors between 0 and Pure Green:')\n",
    "print('--------------------------------')\n",
    "\n",
    "for i in range(100):\n",
    "    randcolor = np.random.randint(0, 0xFFFFFF + 1)\n",
    "    #print(hex(randcolor))\n",
    "    if 0x000000 < randcolor < 0x00FF00:\n",
    "        print(hex(randcolor))\n",
    "        print(randcolor)"
   ]
  },
  {
   "cell_type": "code",
   "execution_count": 7,
   "metadata": {},
   "outputs": [
    {
     "name": "stdout",
     "output_type": "stream",
     "text": [
      "(42, 62, 105, 255)\n"
     ]
    }
   ],
   "source": [
    "import pygame\n",
    "\n",
    "hexval = 0x2A3E69\n",
    "lhex = hex(hexval)\n",
    "thingy = tuple(pygame.Color(hex(hexval)))\n",
    "print(thingy)"
   ]
  },
  {
   "cell_type": "code",
   "execution_count": 1,
   "metadata": {},
   "outputs": [
    {
     "name": "stdout",
     "output_type": "stream",
     "text": [
      "2768489\n"
     ]
    }
   ],
   "source": [
    "hexval = 0x2A3E69\n",
    "print(hexval)"
   ]
  },
  {
   "cell_type": "code",
   "execution_count": null,
   "metadata": {},
   "outputs": [],
   "source": [
    "# Ghast — Today at 7:36 PM\n",
    "# Can use bitwise operations to extract the values, probably faster than using strings\n",
    "\n",
    "hex_val = 0xAABBCC\n",
    "r = (hex_val & 0xFF0000) // 0x010000\n",
    "g = (hex_val & 0x00FF00) // 0x000100\n",
    "b = (hex_val & 0x0000FF)\n",
    "print(r, g, b)\n",
    "\n",
    "# Duke Ankith Von Earl of Sirs — Today at 7:43 PM\n",
    "# Does floor division here give the same effect as bitwise right shift?\n",
    "# I feel left shifting is more readable but maybe that is just me\n",
    "# Took a while to figure out what the division is doing here \n",
    "\n",
    "# Ghast — Today at 7:46 PM\n",
    "# This works too yeah\n",
    "\n",
    "r = (hex_val & 0xFF0000) >> 16\n",
    "g = (hex_val & 0x00FF00) >> 8\n",
    "b = (hex_val & 0x0000FF)\n",
    "\n",
    "# Whatever floats your goat~"
   ]
  },
  {
   "cell_type": "code",
   "execution_count": null,
   "metadata": {},
   "outputs": [],
   "source": [
    "# Speed test: Method 1\n",
    "\n"
   ]
  },
  {
   "cell_type": "code",
   "execution_count": null,
   "metadata": {},
   "outputs": [],
   "source": [
    "# Speed test: Method 2"
   ]
  },
  {
   "cell_type": "code",
   "execution_count": null,
   "metadata": {},
   "outputs": [],
   "source": []
  }
 ],
 "metadata": {
  "interpreter": {
   "hash": "1a71390dff19eaeddf228a523485b1ab1e3abc027056b1a82ec013be91ae215b"
  },
  "kernelspec": {
   "display_name": "Python 3.9.7 64-bit ('kitchensink': conda)",
   "name": "python3"
  },
  "language_info": {
   "codemirror_mode": {
    "name": "ipython",
    "version": 3
   },
   "file_extension": ".py",
   "mimetype": "text/x-python",
   "name": "python",
   "nbconvert_exporter": "python",
   "pygments_lexer": "ipython3",
   "version": "3.9.7"
  },
  "orig_nbformat": 4
 },
 "nbformat": 4,
 "nbformat_minor": 2
}
