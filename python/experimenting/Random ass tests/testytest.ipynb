{
 "cells": [
  {
   "cell_type": "code",
   "execution_count": 1,
   "metadata": {},
   "outputs": [
    {
     "name": "stdout",
     "output_type": "stream",
     "text": [
      "pygame 2.0.2 (SDL 2.0.16, Python 3.9.7)\n",
      "Hello from the pygame community. https://www.pygame.org/contribute.html\n"
     ]
    }
   ],
   "source": [
    "import os\n",
    "import pygame\n",
    "x = 100\n",
    "y = 45\n",
    "os.environ['SDL_VIDEO_WINDOW_POS'] = \"%d,%d\" % (x,y)\n",
    "pygame.init()\n",
    "screen = pygame.display.set_mode((100,100))"
   ]
  },
  {
   "cell_type": "code",
   "execution_count": 3,
   "metadata": {},
   "outputs": [
    {
     "name": "stdout",
     "output_type": "stream",
     "text": [
      "1920\n"
     ]
    }
   ],
   "source": [
    "from screeninfo import get_monitors\n",
    "for m in get_monitors():\n",
    "    print(m.width)\n"
   ]
  },
  {
   "cell_type": "code",
   "execution_count": 4,
   "metadata": {},
   "outputs": [
    {
     "name": "stdout",
     "output_type": "stream",
     "text": [
      "5.0\n",
      "5.0\n"
     ]
    }
   ],
   "source": [
    "import numpy\n",
    "\n",
    "from numpy import average as avgA   \n",
    "avgB = numpy.average\n",
    "\n",
    "n1 = 0\n",
    "n2 = 10\n",
    "\n",
    "print(avgA([n1,n2]))\n",
    "print(avgB([n1,n2]))"
   ]
  },
  {
   "cell_type": "code",
   "execution_count": 6,
   "metadata": {},
   "outputs": [
    {
     "name": "stdout",
     "output_type": "stream",
     "text": [
      "you are feeling good\n"
     ]
    }
   ],
   "source": [
    "thing = str(input('How are you? '))\n",
    "print('you are feeling {}'.format(thing))"
   ]
  }
 ],
 "metadata": {
  "interpreter": {
   "hash": "1a71390dff19eaeddf228a523485b1ab1e3abc027056b1a82ec013be91ae215b"
  },
  "kernelspec": {
   "display_name": "Python 3.9.7 64-bit ('kitchensink': conda)",
   "language": "python",
   "name": "python3"
  },
  "language_info": {
   "codemirror_mode": {
    "name": "ipython",
    "version": 3
   },
   "file_extension": ".py",
   "mimetype": "text/x-python",
   "name": "python",
   "nbconvert_exporter": "python",
   "pygments_lexer": "ipython3",
   "version": "3.9.7"
  },
  "orig_nbformat": 4
 },
 "nbformat": 4,
 "nbformat_minor": 2
}
