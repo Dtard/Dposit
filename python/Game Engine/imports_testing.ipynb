{
 "cells": [
  {
   "cell_type": "code",
   "execution_count": null,
   "metadata": {},
   "outputs": [],
   "source": [
    "import src.colorhandler as ch\n",
    "import src.game_time as time\n",
    "import src.assethandler as asset\n",
    "import src.windowhandler as gamewindow\n",
    "import src.render_array as renderto\n",
    "\n",
    "\n"
   ]
  }
 ],
 "metadata": {
  "language_info": {
   "name": "python"
  },
  "orig_nbformat": 4
 },
 "nbformat": 4,
 "nbformat_minor": 2
}
