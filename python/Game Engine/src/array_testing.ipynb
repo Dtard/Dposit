{
 "cells": [
  {
   "cell_type": "code",
   "execution_count": null,
   "metadata": {},
   "outputs": [],
   "source": [
    "import render_array as render\n",
    "\n"
   ]
  },
  {
   "cell_type": "code",
   "execution_count": 24,
   "metadata": {},
   "outputs": [
    {
     "name": "stdout",
     "output_type": "stream",
     "text": [
      "[268435455 268435455 268435455 268435455 268435455         0         0\n",
      "         0         0         0         0         0         0         0\n",
      "         0         0         0         0         0         0         0\n",
      "         0         0         0         0         0         0         0\n",
      "         0         0         0         0         0         0         0\n",
      "         0         0         0         0         0         0         0\n",
      "         0         0         0         0         0         0         0\n",
      "         0         0         0         0         0         0         0\n",
      "         0         0         0         0         0         0         0\n",
      "         0         0         0         0         0         0         0\n",
      "         0         0         0         0         0         0         0\n",
      "         0         0         0         0         0         0         0\n",
      "         0         0         0         0         0         0         0\n",
      "         0         0         0         0         0         0         0\n",
      "         0         0]\n"
     ]
    }
   ],
   "source": [
    "# CIRCLES BOY\n",
    "import numpy as np\n",
    "import math\n",
    "# ILL FUCKING DO IT MYSELF:\n",
    "# MAKE SQUARE ARRAY:\n",
    "#(x,y) = 10,10\n",
    "# how the fuck does this work\n",
    "#fart = np.array([xv if c else yv for c, xv, yv in zip(c, x,y)])\n",
    "f = np.arange(10000).reshape(100,100)\n",
    "shitcircle = np.array([0xFFFFFFF if math.sqrt(x**x+y**y)<50 else 0 for x,y in zip(list(range(100)),list(range(100)))])\n",
    "# FUCKING CUNT\n",
    "print(shitcircle)"
   ]
  },
  {
   "cell_type": "code",
   "execution_count": 33,
   "metadata": {},
   "outputs": [
    {
     "name": "stdout",
     "output_type": "stream",
     "text": [
      "[[0 0 0 0 0 0 0 0 0 0]\n",
      " [0 0 0 0 0 0 0 0 0 0]\n",
      " [0 0 1 2 0 0 0 0 0 0]\n",
      " [0 0 3 4 0 0 0 0 0 0]\n",
      " [0 0 0 0 0 0 0 0 0 0]\n",
      " [0 0 0 0 0 0 0 0 0 0]\n",
      " [0 0 0 0 0 0 0 0 0 0]\n",
      " [0 0 0 0 0 0 0 0 0 0]\n",
      " [0 0 0 0 0 0 0 0 0 0]\n",
      " [0 0 0 0 0 0 0 0 0 0]]\n",
      "True\n"
     ]
    }
   ],
   "source": [
    "import numpy as np\n",
    "\n",
    "#fucking insert something\n",
    "\n",
    "full = np.full((10,10),0)\n",
    "sub = np.arange(1,5).reshape(2,2)\n",
    "start = x,y = 2,2\n",
    "full[x:x+sub.shape[0],y:y+sub.shape[1]] = sub\n",
    "print(full)\n",
    "print(full.shape > sub.shape)\n"
   ]
  },
  {
   "cell_type": "code",
   "execution_count": 29,
   "metadata": {},
   "outputs": [
    {
     "name": "stdout",
     "output_type": "stream",
     "text": [
      "big:(10, 10),small:(2, 2)\n",
      "wide:(2, 15),tall:(15, 2)\n",
      "big>small\n",
      "True\n",
      "small<big\n",
      "False\n",
      "big>wide\n",
      "True\n",
      "big>tall\n",
      "False\n"
     ]
    }
   ],
   "source": [
    "import numpy as np\n",
    "\n",
    "# Now for some checkies:\n",
    "\n",
    "big = np.full((10,10),0)\n",
    "small = np.full((2,2),2)\n",
    "wide = np.full((2,15),5)\n",
    "tall = np.full((15,2),7)\n",
    "\n",
    "\n",
    "print('RESULT: HAVE TO COMPARE BOTH DIMENSIONS SEPARATELY')"
   ]
  },
  {
   "cell_type": "code",
   "execution_count": 110,
   "metadata": {},
   "outputs": [
    {
     "name": "stdout",
     "output_type": "stream",
     "text": [
      "(5, 5)\n",
      "y low\n",
      "dest = (10,10), source = (2,2)\n",
      "[[0 0 0 0 0 0 0 0 0 0]\n",
      " [0 0 0 0 0 0 0 0 0 0]\n",
      " [0 0 0 0 0 0 0 0 0 0]\n",
      " [0 0 0 0 0 0 0 0 0 0]\n",
      " [0 0 0 0 0 0 0 0 0 0]\n",
      " [0 0 0 0 0 0 0 0 0 0]\n",
      " [0 0 0 0 0 0 0 0 0 0]\n",
      " [0 0 0 0 0 0 0 0 0 0]\n",
      " [1 1 0 0 0 0 0 0 0 0]\n",
      " [1 1 0 0 0 0 0 0 0 0]]\n"
     ]
    }
   ],
   "source": [
    "# figure out this fucking ref/value shit:\n",
    "\n",
    "# STEP 1:\n",
    "import numpy as np\n",
    "\n",
    "def overwrite(dest,source,loc):\n",
    "    (y,x) = loc\n",
    "    if (x < 0):\n",
    "        print('x low')\n",
    "        source = source[abs(x):,:]\n",
    "        x = 0\n",
    "    if (y < 0):\n",
    "        print('y low')\n",
    "        source = source[:,abs(y):]\n",
    "        y = 0\n",
    "    if ((source.shape[0]+x) > dest.shape[0]):\n",
    "        print('x high')\n",
    "        source = source[:dest.shape[0]-x,:]\n",
    "    if ((source.shape[1]+y) > dest.shape[1]):\n",
    "        print('y high')\n",
    "        source = source[:,:dest.shape[1]-y]\n",
    "    print(f'dest = ({dest.shape[0]},{dest.shape[1]}), source = ({source.shape[0]},{source.shape[1]})')\n",
    "    dest[x:x+source.shape[0],y:y+source.shape[1]] = source\n",
    "\n",
    "a = np.full((10,10),0)\n",
    "b = np.full((5,5),1)\n",
    "x,y = (-3,2)\n",
    "print(b.shape)\n",
    "b = b[abs(x):,:]\n",
    "overwrite(a,b,(x,y))\n",
    "print(a)\n"
   ]
  },
  {
   "cell_type": "code",
   "execution_count": 116,
   "metadata": {},
   "outputs": [],
   "source": [
    "import timeit"
   ]
  },
  {
   "cell_type": "code",
   "execution_count": 121,
   "metadata": {},
   "outputs": [],
   "source": [
    "def over(dest,source,loc):\n",
    "    (x,y) = loc\n",
    "    if (x < 0):\n",
    "        source = source[abs(x):]\n",
    "        x = 0\n",
    "    if (y < 0):\n",
    "        source = source[:,abs(y):]\n",
    "        y = 0\n",
    "    if (source.shape[0]+x > dest.shape[0]):\n",
    "        source = source[:dest.shape[0]-x,:]\n",
    "    if (source.shape[1]+y > dest.shape[1]):\n",
    "        source = source[:,:(dest.shape[1]-y)]\n",
    "    dest[x:x+source.shape[0],y:y+source.shape[1]] = source\n",
    "\n",
    "a = np.full((10,10),0)\n",
    "b = np.full((5,5),1)\n",
    "c = np.full((11,11),2)\n",
    "\n"
   ]
  },
  {
   "cell_type": "code",
   "execution_count": 151,
   "metadata": {},
   "outputs": [
    {
     "name": "stdout",
     "output_type": "stream",
     "text": [
      "0.008022399999390473\n",
      "0.008333333333333333\n"
     ]
    }
   ],
   "source": [
    "setup = '''\n",
    "import numpy as np\n",
    "\n",
    "a = np.full((10,10),0)\n",
    "b = np.full((5,5),1)\n",
    "c = np.full((11,11),2)\n",
    "\n",
    "def over(dest,source,loc):\n",
    "    (x,y) = loc\n",
    "    if (x < 0):\n",
    "        source = source[abs(x):]\n",
    "        x = 0\n",
    "    if (y < 0):\n",
    "        source = source[:,abs(y):]\n",
    "        y = 0\n",
    "    if (source.shape[0]+x > dest.shape[0]):\n",
    "        source = source[:dest.shape[0]-x,:]\n",
    "    if (source.shape[1]+y > dest.shape[1]):\n",
    "        source = source[:,:(dest.shape[1]-y)]\n",
    "    dest[x:x+source.shape[0],y:y+source.shape[1]] = source\n",
    "'''\n",
    "code = '''\n",
    "over(a,b,(1,1))\n",
    "'''\n",
    "timed = timeit.timeit(code,setup,number = 5600)\n",
    "print(timed)\n",
    "print(1/120)"
   ]
  }
 ],
 "metadata": {
  "interpreter": {
   "hash": "1a71390dff19eaeddf228a523485b1ab1e3abc027056b1a82ec013be91ae215b"
  },
  "kernelspec": {
   "display_name": "Python 3.9.7 64-bit ('kitchensink': conda)",
   "language": "python",
   "name": "python3"
  },
  "language_info": {
   "codemirror_mode": {
    "name": "ipython",
    "version": 3
   },
   "file_extension": ".py",
   "mimetype": "text/x-python",
   "name": "python",
   "nbconvert_exporter": "python",
   "pygments_lexer": "ipython3",
   "version": "3.9.7"
  },
  "orig_nbformat": 4
 },
 "nbformat": 4,
 "nbformat_minor": 2
}
