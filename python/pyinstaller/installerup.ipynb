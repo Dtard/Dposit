{
 "cells": [
  {
   "cell_type": "code",
   "execution_count": 7,
   "metadata": {},
   "outputs": [
    {
     "name": "stdout",
     "output_type": "stream",
     "text": [
      "thing = str(input('How are you? '))\n",
      "print('you are feeling {}'.format(thing))\n"
     ]
    }
   ],
   "source": [
    "g = open('howareyou.py')\n",
    "print(g.read())"
   ]
  }
 ],
 "metadata": {
  "interpreter": {
   "hash": "1a71390dff19eaeddf228a523485b1ab1e3abc027056b1a82ec013be91ae215b"
  },
  "kernelspec": {
   "display_name": "Python 3.9.7 64-bit ('kitchensink': conda)",
   "language": "python",
   "name": "python3"
  },
  "language_info": {
   "codemirror_mode": {
    "name": "ipython",
    "version": 3
   },
   "file_extension": ".py",
   "mimetype": "text/x-python",
   "name": "python",
   "nbconvert_exporter": "python",
   "pygments_lexer": "ipython3",
   "version": "3.9.7"
  },
  "orig_nbformat": 4
 },
 "nbformat": 4,
 "nbformat_minor": 2
}
