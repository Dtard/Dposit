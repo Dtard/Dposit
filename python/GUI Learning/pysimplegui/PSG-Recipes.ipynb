{
 "cells": [
  {
   "cell_type": "code",
   "execution_count": 2,
   "source": [
    "# Recipe 1: Pattern 1A/Simplest Pattern\r\n",
    "import PySimpleGUI as sg      \r\n",
    "\r\n",
    "layout = [[sg.Text('My one-shot window.')],      \r\n",
    "                 [sg.InputText()],      \r\n",
    "                 [sg.Submit(), sg.Cancel()]]      \r\n",
    "\r\n",
    "window = sg.Window('Window Title', layout)    \r\n",
    "\r\n",
    "event, values = window.read()    \r\n",
    "window.close()\r\n",
    "\r\n",
    "text_input = values[0]    \r\n",
    "sg.popup('You entered', text_input)"
   ],
   "outputs": [
    {
     "output_type": "execute_result",
     "data": {
      "text/plain": [
       "'OK'"
      ]
     },
     "metadata": {},
     "execution_count": 2
    }
   ],
   "metadata": {}
  },
  {
   "cell_type": "code",
   "execution_count": 3,
   "source": [
    "# Pattern1A again, this time using a key for input var/identifier\r\n",
    "import PySimpleGUI as sg      \r\n",
    "\r\n",
    "layout = [[sg.Text('My one-shot window.')],      \r\n",
    "                 [sg.InputText(key='inp')],      \r\n",
    "                 [sg.Submit(), sg.Cancel()]]      \r\n",
    "\r\n",
    "window = sg.Window('Window Title', layout)    \r\n",
    "\r\n",
    "event, values = window.read()    \r\n",
    "window.close()\r\n",
    "\r\n",
    "text_input = values['inp']    \r\n",
    "sg.popup('You entered', text_input)"
   ],
   "outputs": [
    {
     "output_type": "stream",
     "name": "stdout",
     "text": [
      "<PySimpleGUI.PySimpleGUI.Button object at 0x0000016C769F88E0>\n"
     ]
    },
    {
     "output_type": "execute_result",
     "data": {
      "text/plain": [
       "'OK'"
      ]
     },
     "metadata": {},
     "execution_count": 3
    }
   ],
   "metadata": {}
  }
 ],
 "metadata": {
  "orig_nbformat": 4,
  "language_info": {
   "name": "python",
   "version": "3.9.7",
   "mimetype": "text/x-python",
   "codemirror_mode": {
    "name": "ipython",
    "version": 3
   },
   "pygments_lexer": "ipython3",
   "nbconvert_exporter": "python",
   "file_extension": ".py"
  },
  "kernelspec": {
   "name": "python3",
   "display_name": "Python 3.9.7 64-bit ('testenv': conda)"
  },
  "interpreter": {
   "hash": "a4124f99dc1a9db033e9f8f16342b9fbf61224e4470be311c167cfbe93e12551"
  }
 },
 "nbformat": 4,
 "nbformat_minor": 2
}