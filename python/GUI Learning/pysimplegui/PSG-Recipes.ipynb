{
 "cells": [
  {
   "cell_type": "code",
   "execution_count": null,
   "source": [
    "# Persistent Window Base:\r\n",
    "\r\n",
    "import PySimpleGUI as sg      \r\n",
    "\r\n",
    "sg.theme('DarkAmber')    # Keep things interesting for your users\r\n",
    "\r\n",
    "layout = [[sg.Text('Persistent window')],      \r\n",
    "          [sg.Input(key='-IN-')],      \r\n",
    "          [sg.Button('Read'), sg.Exit()]]      \r\n",
    "\r\n",
    "window = sg.Window('Window that stays open', layout)      \r\n",
    "\r\n",
    "while True:                             # The Event Loop\r\n",
    "    event, values = window.read() \r\n",
    "    print(event, values)       \r\n",
    "    if event == sg.WIN_CLOSED or event == 'Exit':\r\n",
    "        break      \r\n",
    "\r\n",
    "window.close()"
   ],
   "outputs": [],
   "metadata": {}
  },
  {
   "cell_type": "code",
   "execution_count": null,
   "source": [
    "# Persistent Window that updates on button press \r\n",
    "import PySimpleGUI as sg\r\n",
    "\r\n",
    "sg.theme('BluePurple')\r\n",
    "\r\n",
    "layout = [[sg.Text('Your typed chars appear here:'), sg.Text(size=(15,1), key='-OUTPUT-')],\r\n",
    "          [sg.Input(key='-IN-')],\r\n",
    "          [sg.Button('Show'), sg.Button('Exit')]]\r\n",
    "\r\n",
    "window = sg.Window('Pattern 2B', layout)\r\n",
    "\r\n",
    "while True:  # Event Loop\r\n",
    "    event, values = window.read()\r\n",
    "    print(event, values)\r\n",
    "    if event == sg.WIN_CLOSED or event == 'Exit':\r\n",
    "        break\r\n",
    "    if event == 'Show':\r\n",
    "        # Update the \"output\" text element to be the value of \"input\" element\r\n",
    "        window['-OUTPUT-'].update(values['-IN-'])\r\n",
    "\r\n",
    "window.close()"
   ],
   "outputs": [],
   "metadata": {}
  },
  {
   "cell_type": "code",
   "execution_count": 5,
   "source": [
    "# Pattern1A - one-shot window 1 (self closing/single line):\r\n",
    "import PySimpleGUI as sg      \r\n",
    "\r\n",
    "layout = [[sg.Text('My one-shot window.')],      \r\n",
    "                 [sg.InputText(key='inp')],      \r\n",
    "                 [sg.Submit(), sg.Cancel()]]      \r\n",
    "\r\n",
    "window = sg.Window('Window Title', layout)    \r\n",
    "\r\n",
    "event, values = window.read()    \r\n",
    "window.close()\r\n",
    "\r\n",
    "text_input = values['inp']    \r\n",
    "sg.popup('You entered', text_input)"
   ],
   "outputs": [
    {
     "output_type": "execute_result",
     "data": {
      "text/plain": [
       "'OK'"
      ]
     },
     "metadata": {},
     "execution_count": 5
    }
   ],
   "metadata": {}
  },
  {
   "cell_type": "code",
   "execution_count": 4,
   "source": [
    "# Recipe 1B - one-shot window 2 (self closing/single line):\r\n",
    "import PySimpleGUI as sg\r\n",
    "\r\n",
    "event, values = sg.Window('Login Window',\r\n",
    "                  [[sg.T('Enter your Login ID'), sg.In(key='-ID-')],\r\n",
    "                  [sg.B('OK'), sg.B('Cancel') ]]).read(close=True)\r\n",
    "\r\n",
    "login_id = values['-ID-']"
   ],
   "outputs": [],
   "metadata": {}
  },
  {
   "cell_type": "markdown",
   "source": [
    "### When Finalizing Projects: ###\r\n",
    "* Can change your .py file to a .pyw (and open with pythonw) in order to prevent console window from also appearing."
   ],
   "metadata": {}
  }
 ],
 "metadata": {
  "orig_nbformat": 4,
  "language_info": {
   "name": "python",
   "version": "3.9.7",
   "mimetype": "text/x-python",
   "codemirror_mode": {
    "name": "ipython",
    "version": 3
   },
   "pygments_lexer": "ipython3",
   "nbconvert_exporter": "python",
   "file_extension": ".py"
  },
  "kernelspec": {
   "name": "python3",
   "display_name": "Python 3.9.7 64-bit ('testenv': conda)"
  },
  "interpreter": {
   "hash": "a4124f99dc1a9db033e9f8f16342b9fbf61224e4470be311c167cfbe93e12551"
  }
 },
 "nbformat": 4,
 "nbformat_minor": 2
}