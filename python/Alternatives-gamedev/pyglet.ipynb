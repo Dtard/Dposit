{
 "cells": [
  {
   "cell_type": "code",
   "execution_count": 4,
   "metadata": {},
   "outputs": [],
   "source": [
    "# Hello Triangle\n",
    "\n",
    "from pyglet.gl import *\n",
    "\n",
    "ckass Triangle:\n",
    "    def __init__(self):\n",
    "        self.verts = pyglet.graphics.vertex_list(3,(''))\n",
    "\n",
    "class MyWindow(pyglet.window.Window):\n",
    "    def __init__(self,*args,**kwargs):\n",
    "        super().__init__(*args,**kwargs)\n",
    "        self.set_minimum_size(480,270) "
   ]
  },
  {
   "cell_type": "code",
   "execution_count": 5,
   "metadata": {},
   "outputs": [],
   "source": [
    "window = MyWindow(1280,720,'Learning Pyglet', \n",
    "                  resizable = True)\n",
    "pyglet.app.run()"
   ]
  },
  {
   "cell_type": "code",
   "execution_count": 11,
   "metadata": {},
   "outputs": [
    {
     "name": "stdout",
     "output_type": "stream",
     "text": [
      "270.0000000118125\n"
     ]
    }
   ],
   "source": []
  },
  {
   "cell_type": "code",
   "execution_count": null,
   "metadata": {},
   "outputs": [],
   "source": []
  }
 ],
 "metadata": {
  "interpreter": {
   "hash": "1a71390dff19eaeddf228a523485b1ab1e3abc027056b1a82ec013be91ae215b"
  },
  "kernelspec": {
   "display_name": "Python 3.9.7 64-bit ('kitchensink': conda)",
   "language": "python",
   "name": "python3"
  },
  "language_info": {
   "codemirror_mode": {
    "name": "ipython",
    "version": 3
   },
   "file_extension": ".py",
   "mimetype": "text/x-python",
   "name": "python",
   "nbconvert_exporter": "python",
   "pygments_lexer": "ipython3",
   "version": "3.9.7"
  },
  "orig_nbformat": 4
 },
 "nbformat": 4,
 "nbformat_minor": 2
}
